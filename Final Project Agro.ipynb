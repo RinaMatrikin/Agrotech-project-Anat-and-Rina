{
 "cells": [
  {
   "cell_type": "markdown",
   "metadata": {},
   "source": [
    "# Agro-Informatics Project"
   ]
  },
  {
   "cell_type": "markdown",
   "metadata": {},
   "source": [
    "### Instructor: \n",
    "Dr. Nimrod Schwartz\n",
    "                "
   ]
  },
  {
   "cell_type": "markdown",
   "metadata": {},
   "source": [
    "#### Abstract:\n",
    "The retention curve of the soil describes the relationship between the water content and the matric potential in a state of equilibrium. The retention curve is of great importance in describing the hydraulic properties of the soil and is required for the purpose of modeling flow and convection processes, for the benefit of irrigation management and many other applications related to the management or evaluation of soil water. Also, the water flow in unsaturated flow as described by Buckingham Darcy, obtained by doubling the driving force in the conductivity of the medium.\n",
    "\n",
    "In our experiment we performed pressure measurements by two tensiometers placed at different heights in a saturated soil column, which undergoes unsaturated flow evaporation. With the help of these data, it is possible to construct a retention curve, which connects between the changing water content and the matric potential of the soil. Also, with Buckingham Darcy equation it's possible to link between hydraulic conductivity and the matric potential.\n",
    "\n",
    "#### Devices and procedure:\n",
    "required equipment:\n",
    "•\t1 X ESP32\n",
    "\n",
    "•\t1 X Breadboard\n",
    "\n",
    "•\t2 X MPX5100DP - Pressure sensor\n",
    "\n",
    "•\t1X ADS1115- 16bit ADC (for analog reads)\n",
    "\n",
    "•\t1X Load cell with xfw-hx711- Measures weight\n",
    "\n",
    "•\t2X Tensiometer\n",
    "\n",
    "•\t4X Resistor 100K\n",
    "\n",
    "#### Procedure:\n",
    "\n",
    "\n",
    "<a href=\"https://ibb.co/LYTmjGP\"><img src=\"https://i.ibb.co/RYXfr5S/map-connection.png\" alt=\"map-connection\" border=\"0\"></a></a>\n",
    "\n",
    "\n",
    "\n",
    "<a href=\"https://imgbb.com/\"><img src=\"https://i.ibb.co/DLysg5F/conecting-pressure.png\" alt=\"conecting-pressure\" border=\"0\"></a>\n"
   ]
  },
  {
   "cell_type": "markdown",
   "metadata": {},
   "source": [
    "### Steps of action:\n",
    "o\tTwo tensiometers should be quenched for at least 24 hours.\n",
    "\n",
    "o\tA small cylindrical column should be taken into which soil can be inserted.\n",
    "\n",
    "o\tThe bottom of the column should be slightly perforated so that it can be saturated from below.\n",
    "\n",
    "o\tAlso, the side of the cylinder must be perforated twice for the tensiometers.\n",
    "\n",
    "o\tSeveral equivalents must be made:\n",
    "\n",
    "        Empty cylindrical column.\n",
    "        \n",
    "        A filled column with air-dried soil\n",
    "        \n",
    "        A filled column with soil after saturation\n",
    "        \n",
    "        Measurements over about ten days until the tensiometer ruptures.\n"
   ]
  },
  {
   "cell_type": "markdown",
   "metadata": {},
   "source": [
    "### Methods:\n",
    "Buckingham Darcy: $q=K(h)(dh/dz+1)$\n",
    "\n",
    "\n",
    "$q=Q/A$\n",
    "\n",
    "##### Q- rate of flow\n",
    "\n",
    "##### K(h)- Hydraulic conductivity\n",
    "\n",
    "##### h(m)- matric potential \n",
    "\n",
    "##### $\\Delta z$ -The distance between two tensiometrs\n"
   ]
  },
  {
   "cell_type": "markdown",
   "metadata": {},
   "source": [
    "It is important to note two important assumptions for the calculations in the experiment: the soil tested in our experiment is Hamra, whose hygroscopic water content is known to us from literary data (any soil can be taken anywhere). We also assumed that the change in the weight of the soil column constitutes the change in water content because of water evaporation.\n",
    "To create a retention curve, first we calculated the oven dry soil by using the formula: \n",
    "$ Ws=Wa / 1+teta_r$\n",
    "\n",
    "Second, we measured the weight of the empty column, the connected wires, and the oven-dry soil. We set a fixed number, the sum of all the weights above. We subtracted this number from the weight data, which left us with water weight only.\n",
    "By dividing water weight with oven-dry soil weight, we got the water content. We converted the water content weight to volumetric water content by multiplying the water weight content with the bulk density of the soil. With the help of this data and the changing pressure data, we created a retention curve.\n",
    "\n",
    "To create a graph linking the water content to the hydraulic conductivity, we used the Darcy Law, linking the flux to the hydraulic conductivity. The flux can be calculated at any given moment by the relationship between the flow rate and the cross-sectional area of the soil column. According to this, the hydraulic conductivity value can be isolated and calculated at any given time and thus tied to the water content that also changes over time. \n"
   ]
  },
  {
   "cell_type": "markdown",
   "metadata": {},
   "source": [
    "### Tips and Comments:\n",
    "•\tIt is recommended that the test measurements be transmitted to the \"Tingspeak\" website and that a permanent and stable connection to a wireless network be ensured throughout the days of the test.\n",
    "\n",
    "•\tIt is recommended to place the experiment on a stable surface, in an area with a standard and relatively constant temperature.\n",
    "\n",
    "•\tThe tensiometers should be quenched for at least 24 hours by connecting its tip with a rubber roller to the syringe and creating a vacuum in a glass of water! Do not take it out of the water so as not to fill the clay pores with air.\n",
    "\n",
    "•\tPay attention to the electrical connections, incorrect connection of one of the pins may burn the device and valuable work time will be wasted.\n"
   ]
  },
  {
   "cell_type": "markdown",
   "metadata": {},
   "source": [
    "### Discussion \n",
    "\n",
    "While Data analysis, we encountered a problem. The weight data showed sharp and irregular increases. It is, of course, impossible as the water only evaporated from the complex, and nothing had been added to the complex. The option that the increase was caused by humidity was denied due to substantial weight changes. Also, we kept the conditions as regular as possible throughout the experiment. Thus, we concluded that there is a problem with the weighing device. Accordingly, we have tried to present the data in the best way. We chose to perform averages of 12 hours.\n"
   ]
  },
  {
   "cell_type": "code",
   "execution_count": 1,
   "metadata": {},
   "outputs": [],
   "source": [
    "import pandas as pd\n",
    "import matplotlib.pyplot as plt\n",
    "import seaborn as sns\n",
    "import numpy as np"
   ]
  },
  {
   "cell_type": "code",
   "execution_count": 2,
   "metadata": {},
   "outputs": [],
   "source": [
    "data= pd.read_csv ('data_for_agro_project.csv')\n",
    "#print ('The dataset contains %i records of the weight and pressure.' %len(data))\n",
    "data['dateTime']=pd.to_datetime(data['date and time'])\n",
    "data=data.drop(columns=['date and time'])\n",
    "data= data.set_index ('dateTime')\n",
    "data['weight[g]']=pd.to_numeric(data['weight'],errors='coerce')\n",
    "data['pressure0[cm]']=pd.to_numeric(data['pressure0'],errors='coerce')\n",
    "data['pressure1[cm]']=pd.to_numeric(data['pressure1'],errors='coerce')\n"
   ]
  },
  {
   "cell_type": "code",
   "execution_count": 3,
   "metadata": {},
   "outputs": [],
   "source": [
    "# clean the data\n",
    "data = data.loc[data['weight[g]'] < 1000]  \n",
    "data = data.loc[data['pressure0[cm]'] < 10] \n",
    "data = data.loc[data['pressure1[cm]'] < 10] \n",
    "\n",
    "\n",
    "data_regular=data.resample('12H').mean().interpolate('linear')\n",
    "\n"
   ]
  },
  {
   "cell_type": "code",
   "execution_count": 4,
   "metadata": {},
   "outputs": [],
   "source": [
    "Wa=62 #gram, air dry soil\n",
    "teta_r= 0.03 #[-], hygroscopic water contant\n",
    "Ws=Wa/1+teta_r #gram, oven dry soil\n",
    "V=7.06*np.pi*1.28**2 # [cm^3] volume of the column , radius=1.28cm\n",
    "A=np.pi*1.28**2 #area of column\n",
    "db= Ws/V\n",
    "dw=1 #[g/cm^3] density of water \n",
    "Weight_column=58 # gram\n",
    "fix_number= 291 # the weight of wires+tensiometrs+ws+empty column"
   ]
  },
  {
   "cell_type": "code",
   "execution_count": 5,
   "metadata": {},
   "outputs": [],
   "source": [
    "# create new column\n",
    "data_regular['water[g]'] = (data_regular['weight[g]'] -fix_number )\n",
    "data_regular['water_contant[-]']=(data_regular['water[g]']/Ws)*db #Volumetric water content\n"
   ]
  },
  {
   "cell_type": "code",
   "execution_count": 6,
   "metadata": {},
   "outputs": [
    {
     "data": {
      "image/png": "[encoded data removed]",
      "text/plain": [
       "<Figure size 432x288 with 1 Axes>"
      ]
     },
     "metadata": {
      "needs_background": "light"
     },
     "output_type": "display_data"
    }
   ],
   "source": [
    "sns.lineplot(data=data_regular, x = 'pressure1[cm]', y = 'water_contant[-]')\n",
    "plt.show()"
   ]
  },
  {
   "cell_type": "code",
   "execution_count": 7,
   "metadata": {},
   "outputs": [],
   "source": [
    "data_regular['Vw[cm^3]'] = data_regular['water[g]'] / dw  #  volume of water\n",
    "data_regular['Q[cm^3/h]'] = data_regular['Vw[cm^3]'] / 12 # divided by 12 because every 12 hours we did resample and mean \n",
    "data_regular['q[cm/h]'] = data_regular['Q[cm^3/h]'] / A #Flux of water\n",
    "data_regular['dh[cm]'] = (data_regular['pressure0[cm]'] - data_regular['pressure1[cm]'])\n",
    "dz =2.09 #[cm]\n",
    "data_regular['k(h)[cm/h]'] = data_regular['q[cm/h]'] / ((data_regular['dh[cm]'] / dz) + 1) # Buckingham Darcy law\n"
   ]
  },
  {
   "cell_type": "code",
   "execution_count": 8,
   "metadata": {},
   "outputs": [
    {
     "data": {
      "image/png": "[encoded data removed]",
      "text/plain": [
       "<Figure size 432x288 with 1 Axes>"
      ]
     },
     "metadata": {
      "needs_background": "light"
     },
     "output_type": "display_data"
    }
   ],
   "source": [
    "sns.lineplot(data=data_regular, x = 'water_contant[-]', y = 'k(h)[cm/h]')\n",
    "plt.show()"
   ]
  },
  {
   "cell_type": "markdown",
   "metadata": {},
   "source": []
  },
  {
   "cell_type": "code",
   "execution_count": null,
   "metadata": {},
   "outputs": [],
   "source": []
  },
  {
   "cell_type": "code",
   "execution_count": null,
   "metadata": {},
   "outputs": [],
   "source": []
  }
 ],
 "metadata": {
  "kernelspec": {
   "display_name": "Python 3",
   "language": "python",
   "name": "python3"
  },
  "language_info": {
   "codemirror_mode": {
    "name": "ipython",
    "version": 3
   },
   "file_extension": ".py",
   "mimetype": "text/x-python",
   "name": "python",
   "nbconvert_exporter": "python",
   "pygments_lexer": "ipython3",
   "version": "3.8.5"
  }
 },
 "nbformat": 4,
 "nbformat_minor": 4
}
